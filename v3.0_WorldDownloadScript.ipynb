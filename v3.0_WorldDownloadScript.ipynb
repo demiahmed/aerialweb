{
 "cells": [
  {
   "cell_type": "markdown",
   "metadata": {
    "colab_type": "text",
    "id": "sb1jcfkRAqO_"
   },
   "source": [
    "# World Airport Imagery Retrieval\n"
   ]
  },
  {
   "cell_type": "code",
   "execution_count": 1,
   "metadata": {
    "colab": {},
    "colab_type": "code",
    "id": "8_KhTV-VBWnb"
   },
   "outputs": [],
   "source": [
    "%config IPCompleter.greedy=True\n",
    "import folium\n",
    "import os\n",
    "from zipfile import ZipFile\n",
    "import requests\n",
    "from six.moves.urllib.parse import urljoin\n",
    "from tqdm import tqdm\n",
    "import numpy as np\n",
    "from sentinelsat import SentinelAPI, read_geojson, geojson_to_wkt \n",
    "import geopandas as gpd\n",
    "import pandas as pd\n",
    "import numpy as np\n",
    "import matplotlib.pyplot as plt\n",
    "import csv\n",
    "from shapely.geometry import MultiPolygon, Polygon\n",
    "import rasterio as rio\n",
    "from rasterio.plot import show\n",
    "import rasterio.mask\n",
    "import fiona\n",
    "from pyproj import Proj, CRS,transform\n",
    "import gdal\n",
    "from datetime import datetime\n",
    "import pygc\n",
    "from io import StringIO\n",
    "import shutil\n",
    "from osgeo import gdal, gdal_array\n",
    "from PIL import Image\n",
    "import json"
   ]
  },
  {
   "cell_type": "code",
   "execution_count": 2,
   "metadata": {},
   "outputs": [],
   "source": [
    "missing_values = [r\"\\N\"]\n",
    "df0 = pd.read_csv(r'airport-codes_csv.csv',na_values = missing_values)\n",
    "list1,list2,a,b = [],[],[],[]\n",
    "for itema,itemb in zip(df0[\"iata_code\"],df0['iso_region']):\n",
    "    list1.append(itema)\n",
    "    list2.append(itemb)\n",
    "    \n",
    "for items in df0['coordinates']:\n",
    "    a.append(items.split(',')[0])\n",
    "    b.append(items.split(',')[1])"
   ]
  },
  {
   "cell_type": "code",
   "execution_count": 3,
   "metadata": {},
   "outputs": [],
   "source": [
    "iatalist,iatabatch= [],[]\n",
    "batch_ranges = []\n",
    "batch_size = 2\n",
    "batch_number = 2\n",
    "missing_values = [r\"\\N\"]\n",
    "#df = pd.read_excel(r'190812_CompanyRelations.xlsx', sheet_name = 'Airport Data',na_values = missing_values)\n",
    "df = pd.read_csv(r'airportDB.csv')\n",
    "df_all = df\n",
    "#.sort_values(by = ['2018 Passengers'], ascending = False)\n",
    "#t = np.invert(df['2018 Passengers'].isnull())\n",
    "#df = df[t]\n",
    "#df = df.sort_values(by = [\"2018 Passengers\"], ascending = False) \n",
    "allNames = []\n",
    "for items,names in zip(df_all['IATA'],df_all['Name']):\n",
    "    iatabatch.append(items)\n",
    "    allNames.append(names)\n",
    "    \n",
    "def Remove(duplicate): \n",
    "    final_list = [] \n",
    "    for num in duplicate: \n",
    "        if num not in final_list: \n",
    "            final_list.append(num) \n",
    "    return final_list \n",
    "\n",
    "iatabatch = Remove(iatabatch)\n",
    "chunk_items = len(iatabatch) - 1\n",
    "\n",
    "for i in range(chunk_items):\n",
    "    batch_ranges.append(iatabatch[i*batch_size : (i+1)*batch_size])\n",
    "    \n",
    "batch_ranges\n",
    "\n",
    "for i in range(batch_size):\n",
    "    try:\n",
    "        iatalist.append(batch_ranges[batch_number -1][i])\n",
    "    except:\n",
    "        continue\n",
    "iatalist,allNames[:1000]\n",
    "air = dict(zip(iatalist,allNames[:1000]))"
   ]
  },
  {
   "cell_type": "raw",
   "metadata": {},
   "source": [
    "with open('usairportDict.json', 'w') as json_file:\n",
    "    json.dump(air, json_file)"
   ]
  },
  {
   "cell_type": "code",
   "execution_count": 4,
   "metadata": {},
   "outputs": [
    {
     "data": {
      "text/plain": [
       "['DXB', 'LAX']"
      ]
     },
     "execution_count": 4,
     "metadata": {},
     "output_type": "execute_result"
    }
   ],
   "source": [
    "iatalist"
   ]
  },
  {
   "cell_type": "code",
   "execution_count": null,
   "metadata": {},
   "outputs": [],
   "source": []
  },
  {
   "cell_type": "code",
   "execution_count": 5,
   "metadata": {},
   "outputs": [
    {
     "data": {
      "text/plain": [
       "[]"
      ]
     },
     "execution_count": 5,
     "metadata": {},
     "output_type": "execute_result"
    }
   ],
   "source": [
    "iata,iatalat,iatalon,notthere = [],[],[],[]\n",
    "for key in iatalist:\n",
    "    if key in list1:\n",
    "        iata.append(key)\n",
    "        #have changed codes --> list1 & codes[key].lat/lon --> a/b[list1.index(key)]\n",
    "        iatalon.append(a[list1.index(key)])\n",
    "        iatalat.append(b[list1.index(key)])\n",
    "    else : \n",
    "        notthere.append(key)\n",
    "    \n",
    "\n",
    "#print(iata[0],iatalat[0],iatalon[0])\n",
    "\n",
    "\n",
    "len(iatalat)\n",
    "\n",
    "#printing the entries that we have in our excel but not in our database(significantly improved results over the .dat file previously supplied)\n",
    "notthere"
   ]
  },
  {
   "cell_type": "markdown",
   "metadata": {},
   "source": [
    "Using Python graphic library, we try to virtually construct a geo-boundary translated from our required distance (typically around 10-20kms). "
   ]
  },
  {
   "cell_type": "code",
   "execution_count": 6,
   "metadata": {},
   "outputs": [
    {
     "data": {
      "text/plain": [
       "(2, 2)"
      ]
     },
     "execution_count": 6,
     "metadata": {},
     "output_type": "execute_result"
    }
   ],
   "source": [
    "def latLonBoxByWandH(lat,lon,ew_width,ns_height):\n",
    "    lats, lons = [], []\n",
    "    #distance in m, az (in deg), lat (in deg), long (in deg)\n",
    "\n",
    "    res = pygc.great_circle(distance=ew_width/2, azimuth=90, latitude=lat, longitude=lon)\n",
    "    lat, lon = res['latitude'], res['longitude']\n",
    "\n",
    "    res = pygc.great_circle(distance=ns_height/2, azimuth=180, latitude=lat, longitude=lon)\n",
    "    lat, lon = res['latitude'], res['longitude']\n",
    "    lats.append(lat), lons.append(lon)\n",
    "\n",
    "    res = pygc.great_circle(distance=ew_width, azimuth=270, latitude=lat, longitude=lon)\n",
    "    lat, lon = res['latitude'], res['longitude']\n",
    "    lats.append(lat), lons.append(lon)\n",
    "\n",
    "    res = pygc.great_circle(distance=ns_height, azimuth=0, latitude=lat, longitude=lon)\n",
    "    lat, lon = res['latitude'], res['longitude']\n",
    "    lats.append(lat), lons.append(lon)\n",
    "\n",
    "    res = pygc.great_circle(distance=ew_width, azimuth=90, latitude=lat, longitude=lon)\n",
    "    lat, lon = res['latitude'], res['longitude']\n",
    "    lats.append(lat), lons.append(lon)\n",
    "    \n",
    "    return {'lats':lats,'lons':lons}\n",
    "\n",
    "\n",
    "#test the function\n",
    "#lengths in m\n",
    "ew_width = 10000\n",
    "ns_height = 10000\n",
    "loc_lat,loc_lon = [], []\n",
    "#loc_lat = [51.4775, 51.148056,1.359167]\n",
    "#loc_lon = [-0.461389, -0.190278, 103.989444]\n",
    "for i in range(0,len(iata)):\n",
    "    loc_lat.append(iatalat[i])\n",
    "    loc_lon.append(iatalon[i])\n",
    "    #print(iata[i])\n",
    "\n",
    "#loc_lon,loc_lat\n",
    "loc_lat = np.asfarray(loc_lat,float)\n",
    "loc_lon = np.asfarray(loc_lon,float)\n",
    "len(loc_lat),len(loc_lon)"
   ]
  },
  {
   "cell_type": "markdown",
   "metadata": {},
   "source": [
    "Once we construct the spatial boundary, we then try to project in on a basemap of the globe and use Folium to try and do a sanity check if our geo-boundaries actually fall under the area of our concern, in this case airports."
   ]
  },
  {
   "cell_type": "code",
   "execution_count": 7,
   "metadata": {},
   "outputs": [
    {
     "data": {
      "text/html": [
       "<div style=\"width:100%;\"><div style=\"position:relative;width:100%;height:0;padding-bottom:60%;\"><iframe src=\"about:blank\" style=\"position:absolute;width:100%;height:100%;left:0;top:0;border:none !important;\" data-html=PCFET0NUWVBFIGh0bWw+CjxoZWFkPiAgICAKICAgIDxtZXRhIGh0dHAtZXF1aXY9ImNvbnRlbnQtdHlwZSIgY29udGVudD0idGV4dC9odG1sOyBjaGFyc2V0PVVURi04IiAvPgogICAgCiAgICAgICAgPHNjcmlwdD4KICAgICAgICAgICAgTF9OT19UT1VDSCA9IGZhbHNlOwogICAgICAgICAgICBMX0RJU0FCTEVfM0QgPSBmYWxzZTsKICAgICAgICA8L3NjcmlwdD4KICAgIAogICAgPHNjcmlwdCBzcmM9Imh0dHBzOi8vY2RuLmpzZGVsaXZyLm5ldC9ucG0vbGVhZmxldEAxLjUuMS9kaXN0L2xlYWZsZXQuanMiPjwvc2NyaXB0PgogICAgPHNjcmlwdCBzcmM9Imh0dHBzOi8vY29kZS5qcXVlcnkuY29tL2pxdWVyeS0xLjEyLjQubWluLmpzIj48L3NjcmlwdD4KICAgIDxzY3JpcHQgc3JjPSJodHRwczovL21heGNkbi5ib290c3RyYXBjZG4uY29tL2Jvb3RzdHJhcC8zLjIuMC9qcy9ib290c3RyYXAubWluLmpzIj48L3NjcmlwdD4KICAgIDxzY3JpcHQgc3JjPSJodHRwczovL2NkbmpzLmNsb3VkZmxhcmUuY29tL2FqYXgvbGlicy9MZWFmbGV0LmF3ZXNvbWUtbWFya2Vycy8yLjAuMi9sZWFmbGV0LmF3ZXNvbWUtbWFya2Vycy5qcyI+PC9zY3JpcHQ+CiAgICA8bGluayByZWw9InN0eWxlc2hlZXQiIGhyZWY9Imh0dHBzOi8vY2RuLmpzZGVsaXZyLm5ldC9ucG0vbGVhZmxldEAxLjUuMS9kaXN0L2xlYWZsZXQuY3NzIi8+CiAgICA8bGluayByZWw9InN0eWxlc2hlZXQiIGhyZWY9Imh0dHBzOi8vbWF4Y2RuLmJvb3RzdHJhcGNkbi5jb20vYm9vdHN0cmFwLzMuMi4wL2Nzcy9ib290c3RyYXAubWluLmNzcyIvPgogICAgPGxpbmsgcmVsPSJzdHlsZXNoZWV0IiBocmVmPSJodHRwczovL21heGNkbi5ib290c3RyYXBjZG4uY29tL2Jvb3RzdHJhcC8zLjIuMC9jc3MvYm9vdHN0cmFwLXRoZW1lLm1pbi5jc3MiLz4KICAgIDxsaW5rIHJlbD0ic3R5bGVzaGVldCIgaHJlZj0iaHR0cHM6Ly9tYXhjZG4uYm9vdHN0cmFwY2RuLmNvbS9mb250LWF3ZXNvbWUvNC42LjMvY3NzL2ZvbnQtYXdlc29tZS5taW4uY3NzIi8+CiAgICA8bGluayByZWw9InN0eWxlc2hlZXQiIGhyZWY9Imh0dHBzOi8vY2RuanMuY2xvdWRmbGFyZS5jb20vYWpheC9saWJzL0xlYWZsZXQuYXdlc29tZS1tYXJrZXJzLzIuMC4yL2xlYWZsZXQuYXdlc29tZS1tYXJrZXJzLmNzcyIvPgogICAgPGxpbmsgcmVsPSJzdHlsZXNoZWV0IiBocmVmPSJodHRwczovL3Jhd2Nkbi5naXRoYWNrLmNvbS9weXRob24tdmlzdWFsaXphdGlvbi9mb2xpdW0vbWFzdGVyL2ZvbGl1bS90ZW1wbGF0ZXMvbGVhZmxldC5hd2Vzb21lLnJvdGF0ZS5jc3MiLz4KICAgIDxzdHlsZT5odG1sLCBib2R5IHt3aWR0aDogMTAwJTtoZWlnaHQ6IDEwMCU7bWFyZ2luOiAwO3BhZGRpbmc6IDA7fTwvc3R5bGU+CiAgICA8c3R5bGU+I21hcCB7cG9zaXRpb246YWJzb2x1dGU7dG9wOjA7Ym90dG9tOjA7cmlnaHQ6MDtsZWZ0OjA7fTwvc3R5bGU+CiAgICAKICAgICAgICAgICAgPG1ldGEgbmFtZT0idmlld3BvcnQiIGNvbnRlbnQ9IndpZHRoPWRldmljZS13aWR0aCwKICAgICAgICAgICAgICAgIGluaXRpYWwtc2NhbGU9MS4wLCBtYXhpbXVtLXNjYWxlPTEuMCwgdXNlci1zY2FsYWJsZT1ubyIgLz4KICAgICAgICAgICAgPHN0eWxlPgogICAgICAgICAgICAgICAgI21hcF8xMWY3MWQwMWRiNDk0N2Q2OWEyMzFkZjJhMTBiOTYwNiB7CiAgICAgICAgICAgICAgICAgICAgcG9zaXRpb246IHJlbGF0aXZlOwogICAgICAgICAgICAgICAgICAgIHdpZHRoOiAxMDAuMCU7CiAgICAgICAgICAgICAgICAgICAgaGVpZ2h0OiAxMDAuMCU7CiAgICAgICAgICAgICAgICAgICAgbGVmdDogMC4wJTsKICAgICAgICAgICAgICAgICAgICB0b3A6IDAuMCU7CiAgICAgICAgICAgICAgICB9CiAgICAgICAgICAgIDwvc3R5bGU+CiAgICAgICAgCjwvaGVhZD4KPGJvZHk+ICAgIAogICAgCiAgICAgICAgICAgIDxkaXYgY2xhc3M9ImZvbGl1bS1tYXAiIGlkPSJtYXBfMTFmNzFkMDFkYjQ5NDdkNjlhMjMxZGYyYTEwYjk2MDYiID48L2Rpdj4KICAgICAgICAKPC9ib2R5Pgo8c2NyaXB0PiAgICAKICAgIAogICAgICAgICAgICB2YXIgbWFwXzExZjcxZDAxZGI0OTQ3ZDY5YTIzMWRmMmExMGI5NjA2ID0gTC5tYXAoCiAgICAgICAgICAgICAgICAibWFwXzExZjcxZDAxZGI0OTQ3ZDY5YTIzMWRmMmExMGI5NjA2IiwKICAgICAgICAgICAgICAgIHsKICAgICAgICAgICAgICAgICAgICBjZW50ZXI6IFsyNS4yNTI3OTk5ODc4LCA1NS4zNjQzOTg5NTYzXSwKICAgICAgICAgICAgICAgICAgICBjcnM6IEwuQ1JTLkVQU0czODU3LAogICAgICAgICAgICAgICAgICAgIHpvb206IDEyLAogICAgICAgICAgICAgICAgICAgIHpvb21Db250cm9sOiB0cnVlLAogICAgICAgICAgICAgICAgICAgIHByZWZlckNhbnZhczogZmFsc2UsCiAgICAgICAgICAgICAgICB9CiAgICAgICAgICAgICk7CgogICAgICAgICAgICAKCiAgICAgICAgCiAgICAKICAgICAgICAgICAgdmFyIHRpbGVfbGF5ZXJfZDA4OWYwYjgwNTAzNGMzYzkyMmJmMmNiNzZlMTY5N2QgPSBMLnRpbGVMYXllcigKICAgICAgICAgICAgICAgICJodHRwczovL3tzfS5iYXNlbWFwcy5jYXJ0b2Nkbi5jb20vbGlnaHRfbm9sYWJlbHMve3p9L3t4fS97eX17cn0ucG5nIiwKICAgICAgICAgICAgICAgIHsiYXR0cmlidXRpb24iOiAiXHUwMDI2Y29weTsgXHUwMDNjYSBocmVmPVwiaHR0cHM6Ly93d3cub3BlbnN0cmVldG1hcC5vcmcvY29weXJpZ2h0XCJcdTAwM2VPcGVuU3RyZWV0TWFwXHUwMDNjL2FcdTAwM2UgY29udHJpYnV0b3JzIFx1MDAyNmNvcHk7IFx1MDAzY2EgaHJlZj1cImh0dHBzOi8vY2FydG8uY29tL2F0dHJpYnV0aW9uc1wiXHUwMDNlQ0FSVE9cdTAwM2MvYVx1MDAzZSIsICJkZXRlY3RSZXRpbmEiOiBmYWxzZSwgIm1heE5hdGl2ZVpvb20iOiAxOCwgIm1heFpvb20iOiAxOCwgIm1pblpvb20iOiAwLCAibm9XcmFwIjogZmFsc2UsICJvcGFjaXR5IjogMSwgInN1YmRvbWFpbnMiOiAiYWJjIiwgInRtcyI6IGZhbHNlfQogICAgICAgICAgICApLmFkZFRvKG1hcF8xMWY3MWQwMWRiNDk0N2Q2OWEyMzFkZjJhMTBiOTYwNik7CiAgICAgICAgCiAgICAKICAgICAgICBmdW5jdGlvbiBnZW9fanNvbl9kYThmMzc4MGJhYjY0MWQyYjdmYjE4ZmQ5ZDIwZWNkNl9vbkVhY2hGZWF0dXJlKGZlYXR1cmUsIGxheWVyKSB7CiAgICAgICAgICAgIGxheWVyLm9uKHsKICAgICAgICAgICAgICAgIGNsaWNrOiBmdW5jdGlvbihlKSB7CiAgICAgICAgICAgICAgICAgICAgbWFwXzExZjcxZDAxZGI0OTQ3ZDY5YTIzMWRmMmExMGI5NjA2LmZpdEJvdW5kcyhlLnRhcmdldC5nZXRCb3VuZHMoKSk7CiAgICAgICAgICAgICAgICB9CiAgICAgICAgICAgIH0pOwogICAgICAgIH07CiAgICAgICAgdmFyIGdlb19qc29uX2RhOGYzNzgwYmFiNjQxZDJiN2ZiMThmZDlkMjBlY2Q2ID0gTC5nZW9Kc29uKG51bGwsIHsKICAgICAgICAgICAgICAgIG9uRWFjaEZlYXR1cmU6IGdlb19qc29uX2RhOGYzNzgwYmFiNjQxZDJiN2ZiMThmZDlkMjBlY2Q2X29uRWFjaEZlYXR1cmUsCiAgICAgICAgICAgIAogICAgICAgIH0pOwogICAgICAgIGZ1bmN0aW9uIGdlb19qc29uX2RhOGYzNzgwYmFiNjQxZDJiN2ZiMThmZDlkMjBlY2Q2X2FkZCAoZGF0YSkgewogICAgICAgICAgICBnZW9fanNvbl9kYThmMzc4MGJhYjY0MWQyYjdmYjE4ZmQ5ZDIwZWNkNi5hZGREYXRhKGRhdGEpCiAgICAgICAgICAgICAgICAuYWRkVG8obWFwXzExZjcxZDAxZGI0OTQ3ZDY5YTIzMWRmMmExMGI5NjA2KTsKICAgICAgICB9CiAgICAgICAgICAgIGdlb19qc29uX2RhOGYzNzgwYmFiNjQxZDJiN2ZiMThmZDlkMjBlY2Q2X2FkZCh7ImJib3giOiBbNTUuMzE0ODA0MTU3NzIyMDYsIDI1LjIwNzYyMjM1ODM0OTA4LCA1NS40MTQxMDM3NTAzMDkzMTYsIDI1LjI5Nzg5NDA3ODYwMjQxNV0sICJmZWF0dXJlcyI6IFt7ImJib3giOiBbNTUuMzE0ODA0MTU3NzIyMDYsIDI1LjIwNzYyMjM1ODM0OTA4LCA1NS40MTQxMDM3NTAzMDkzMTYsIDI1LjI5Nzg5NDA3ODYwMjQxNV0sICJnZW9tZXRyeSI6IHsiY29vcmRpbmF0ZXMiOiBbW1s1NS40MTQwMzA0MTMxNTk4OCwgMjUuMjA3NjU1NjUwMDU5MzY1XSwgWzU1LjMxNDgwNDE1NzcyMjA2LCAyNS4yMDc2MjIzNTgzNDkwOF0sIFs1NS4zMTQ4MDQxNTc3MjIwNiwgMjUuMjk3ODk0MDc4NjAyNDE1XSwgWzU1LjQxNDEwMzc1MDMwOTMxNiwgMjUuMjk3ODYwNjUxMjY2Nzk1XSwgWzU1LjQxNDAzMDQxMzE1OTg4LCAyNS4yMDc2NTU2NTAwNTkzNjVdXV0sICJ0eXBlIjogIlBvbHlnb24ifSwgImlkIjogIjAiLCAicHJvcGVydGllcyI6IHt9LCAidHlwZSI6ICJGZWF0dXJlIn1dLCAidHlwZSI6ICJGZWF0dXJlQ29sbGVjdGlvbiJ9KTsKICAgICAgICAKICAgIAogICAgICAgIGZ1bmN0aW9uIGdlb19qc29uXzEwZTQ3MTA0ZjhiMzQ1YTFhZGEwYzA2YmFmNjFmMjIxX29uRWFjaEZlYXR1cmUoZmVhdHVyZSwgbGF5ZXIpIHsKICAgICAgICAgICAgbGF5ZXIub24oewogICAgICAgICAgICAgICAgY2xpY2s6IGZ1bmN0aW9uKGUpIHsKICAgICAgICAgICAgICAgICAgICBtYXBfMTFmNzFkMDFkYjQ5NDdkNjlhMjMxZGYyYTEwYjk2MDYuZml0Qm91bmRzKGUudGFyZ2V0LmdldEJvdW5kcygpKTsKICAgICAgICAgICAgICAgIH0KICAgICAgICAgICAgfSk7CiAgICAgICAgfTsKICAgICAgICB2YXIgZ2VvX2pzb25fMTBlNDcxMDRmOGIzNDVhMWFkYTBjMDZiYWY2MWYyMjEgPSBMLmdlb0pzb24obnVsbCwgewogICAgICAgICAgICAgICAgb25FYWNoRmVhdHVyZTogZ2VvX2pzb25fMTBlNDcxMDRmOGIzNDVhMWFkYTBjMDZiYWY2MWYyMjFfb25FYWNoRmVhdHVyZSwKICAgICAgICAgICAgCiAgICAgICAgfSk7CiAgICAgICAgZnVuY3Rpb24gZ2VvX2pzb25fMTBlNDcxMDRmOGIzNDVhMWFkYTBjMDZiYWY2MWYyMjFfYWRkIChkYXRhKSB7CiAgICAgICAgICAgIGdlb19qc29uXzEwZTQ3MTA0ZjhiMzQ1YTFhZGEwYzA2YmFmNjFmMjIxLmFkZERhdGEoZGF0YSkKICAgICAgICAgICAgICAgIC5hZGRUbyhtYXBfMTFmNzFkMDFkYjQ5NDdkNjlhMjMxZGYyYTEwYjk2MDYpOwogICAgICAgIH0KICAgICAgICAgICAgZ2VvX2pzb25fMTBlNDcxMDRmOGIzNDVhMWFkYTBjMDZiYWY2MWYyMjFfYWRkKHsiYmJveCI6IFstMTE4LjQ2MjAyNTE1MTMyOTMsIDMzLjg5NzM2NDYwMjMxOTMxLCAtMTE4LjM1Mzc5ODA4NzQ0ODA2LCAzMy45ODc1MTg1NzQzMjIzOV0sICJmZWF0dXJlcyI6IFt7ImJib3giOiBbLTExOC40NjIwMjUxNTEzMjkzLCAzMy44OTczNjQ2MDIzMTkzMSwgLTExOC4zNTM3OTgwODc0NDgwNiwgMzMuOTg3NTE4NTc0MzIyMzldLCAiZ2VvbWV0cnkiOiB7ImNvb3JkaW5hdGVzIjogW1tbLTExOC4zNTM5MTIwNTM3NTA1MiwgMzMuODk3NDEyMDM5NjUxNjldLCBbLTExOC40NjIwMjUxNTEzMjkzLCAzMy44OTczNjQ2MDIzMTkzMV0sIFstMTE4LjQ2MjAyNTE1MTMyOTMsIDMzLjk4NzUxODU3NDMyMjM5XSwgWy0xMTguMzUzNzk4MDg3NDQ4MDYsIDMzLjk4NzQ3MDk3NjU5Mjc0XSwgWy0xMTguMzUzOTEyMDUzNzUwNTIsIDMzLjg5NzQxMjAzOTY1MTY5XV1dLCAidHlwZSI6ICJQb2x5Z29uIn0sICJpZCI6ICIwIiwgInByb3BlcnRpZXMiOiB7fSwgInR5cGUiOiAiRmVhdHVyZSJ9XSwgInR5cGUiOiAiRmVhdHVyZUNvbGxlY3Rpb24ifSk7CiAgICAgICAgCjwvc2NyaXB0Pg== onload=\"this.contentDocument.open();this.contentDocument.write(atob(this.getAttribute('data-html')));this.contentDocument.close();\" allowfullscreen webkitallowfullscreen mozallowfullscreen></iframe></div></div>"
      ],
      "text/plain": [
       "<folium.folium.Map at 0x23f2e5918d0>"
      ]
     },
     "execution_count": 7,
     "metadata": {},
     "output_type": "execute_result"
    }
   ],
   "source": [
    "polygons,footprint =[], []\n",
    "\n",
    "for lat, lon in zip(loc_lat,loc_lon):\n",
    "\n",
    "    box = latLonBoxByWandH(lat,lon,ew_width,ns_height)\n",
    "    \n",
    "    polygon_geom = Polygon(zip(box['lons'], box['lats']))\n",
    "    footprint.append(polygon_geom)\n",
    "    crs = CRS('epsg:4326')\n",
    "    polygon = gpd.GeoDataFrame(index=[0], crs=crs, geometry=[polygon_geom])       \n",
    "    \n",
    "    polygons.append(polygon)\n",
    "\n",
    "\n",
    "Proj(\"epsg:4326\")\n",
    "\n",
    "m = folium.Map([loc_lat[0],loc_lon[0]], zoom_start=12,tiles = \"https://{s}.basemaps.cartocdn.com/light_nolabels/{z}/{x}/{y}{r}.png\",\n",
    "attr = '&copy; <a href=\"https://www.openstreetmap.org/copyright\">OpenStreetMap</a> contributors &copy; <a href=\"https://carto.com/attributions\">CARTO</a>')\n",
    "for polygon in polygons:\n",
    "    folium.GeoJson(polygon).add_to(m)\n",
    "    \n",
    "m"
   ]
  },
  {
   "cell_type": "markdown",
   "metadata": {},
   "source": [
    "m.save('500_formetaArticle.html')"
   ]
  },
  {
   "cell_type": "code",
   "execution_count": 8,
   "metadata": {
    "colab": {},
    "colab_type": "code",
    "id": "Rs5TUxLbBCEr"
   },
   "outputs": [],
   "source": [
    "user = 'demi12395' \n",
    "password = 'Sutd1234' \n",
    "\n",
    "api = SentinelAPI(user, password, 'https://scihub.copernicus.eu/dhus')\n",
    "start = '20200412'\n",
    "end = '20201215'\n",
    "cloudperc = 50"
   ]
  },
  {
   "cell_type": "code",
   "execution_count": 9,
   "metadata": {},
   "outputs": [],
   "source": [
    "def apiQuery(iatalist,geometry,dateStart,dateEnd,cloud):\n",
    "    query = api.query(geometry,\n",
    "                 date = (str(dateStart),str(dateEnd)),\n",
    "                 platformname = 'Sentinel-2',\n",
    "                 processinglevel = 'Level-2A',\n",
    "                area_relation = ('Contains'),\n",
    "                 cloudcoverpercentage = (0,cloud))\n",
    "    return query\n",
    "    #print(ia, len(query))"
   ]
  },
  {
   "cell_type": "code",
   "execution_count": 10,
   "metadata": {},
   "outputs": [
    {
     "name": "stderr",
     "output_type": "stream",
     "text": [
      " 50%|██████████████████████████████████████████                                          | 1/2 [00:20<00:20, 20.19s/it]"
     ]
    },
    {
     "name": "stdout",
     "output_type": "stream",
     "text": [
      "DXB 48\n"
     ]
    },
    {
     "name": "stderr",
     "output_type": "stream",
     "text": [
      "100%|████████████████████████████████████████████████████████████████████████████████████| 2/2 [00:36<00:00, 18.41s/it]"
     ]
    },
    {
     "name": "stdout",
     "output_type": "stream",
     "text": [
      "LAX 39\n"
     ]
    },
    {
     "name": "stderr",
     "output_type": "stream",
     "text": [
      "\n"
     ]
    }
   ],
   "source": [
    "apiq = []\n",
    "for ia,boundary in tqdm(zip(iatalist,footprint),total=len(iatalist)):\n",
    "    queried = apiQuery(ia,boundary,start,end,cloudperc)\n",
    "    while len(queried) == 0:\n",
    "        queried = apiQuery(ia,boundary,start,end,cloudperc+10)\n",
    "    apiq.append(queried)\n",
    "    print(ia,len(queried))\n",
    "   "
   ]
  },
  {
   "cell_type": "raw",
   "metadata": {},
   "source": [
    "apiq = [] \n",
    "for ia,boundary in tqdm(zip(iatalist,footprint),total=len(iatalist)):\n",
    "    query = api.query(boundary,\n",
    "                 date = ('20200412','20201215'),\n",
    "                 platformname = 'Sentinel-2',\n",
    "                 processinglevel = 'Level-2A',\n",
    "                area_relation = ('Contains'),\n",
    "                 cloudcoverpercentage = (0,50))\n",
    "    print(ia, len(query))\n",
    "    apiq.append(query)"
   ]
  },
  {
   "cell_type": "code",
   "execution_count": 11,
   "metadata": {
    "colab": {
     "base_uri": "https://localhost:8080/",
     "height": 547
    },
    "colab_type": "code",
    "id": "1svWVHFUCsjL",
    "outputId": "6f56c155-631a-4451-902e-f35d0c6c65fc"
   },
   "outputs": [
    {
     "name": "stderr",
     "output_type": "stream",
     "text": [
      "C:\\Anaconda3\\envs\\fastai_v1\\lib\\site-packages\\pyproj\\crs\\crs.py:53: FutureWarning: '+init=<authority>:<code>' syntax is deprecated. '<authority>:<code>' is the preferred initialization method. When making the change, be mindful of axis order changes: https://pyproj4.github.io/pyproj/stable/gotchas.html#axis-order-changes-in-proj-6\n",
      "  return _prepare_from_string(\" \".join(pjargs))\n"
     ]
    }
   ],
   "source": [
    "products_list, products_list_sorted,images,titlelist,bestlist,datestamp,cloudiness =[],[], [], [], [] , [],[]\n",
    "for products in apiq:\n",
    "        products_list.append(api.to_geodataframe(products))\n",
    "        \n",
    "#Sorting the list of products within our array of locations for minimum cloudcover\n",
    "for products in products_list:\n",
    "    products_list_sorted.append(products.sort_values(['cloudcoverpercentage'],ascending = [True]))\n",
    "    \n",
    "\n",
    "for i in range(0,len(products_list_sorted)):\n",
    "        images.append(products_list_sorted[i].head(1))\n",
    "\n",
    "for i in range(0,len(images)):\n",
    "    titlelist.append(products_list_sorted[i].title[0])\n",
    "    bestlist.append(products_list_sorted[i].uuid[0])\n",
    "    d = products_list_sorted[i].beginposition[0].date().strftime(\"%Y%m%d\")\n",
    "    c = products_list_sorted[i].cloudcoverpercentage\n",
    "    datestamp.append(d)\n",
    "    cloudiness.append(c)"
   ]
  },
  {
   "cell_type": "code",
   "execution_count": 12,
   "metadata": {},
   "outputs": [],
   "source": [
    "#datestamp"
   ]
  },
  {
   "cell_type": "code",
   "execution_count": 13,
   "metadata": {},
   "outputs": [],
   "source": [
    "#iatalist"
   ]
  },
  {
   "cell_type": "code",
   "execution_count": 14,
   "metadata": {},
   "outputs": [],
   "source": [
    "prodlist = bestlist\n",
    "#prodlist"
   ]
  },
  {
   "cell_type": "code",
   "execution_count": 15,
   "metadata": {},
   "outputs": [],
   "source": [
    "def getImageURLs(prod_id,iata):\n",
    "    urls,fNames = [],[]\n",
    "\n",
    "\n",
    "    # connect to the api\n",
    "    api_session = requests.Session()\n",
    "    api_session.auth = (\"demi12395\", \"Sutd1234\")\n",
    "    api_url = \"https://scihub.copernicus.eu/apihub/odata/v1/\"\n",
    "\n",
    "    # product UUID you want to download a single band for\n",
    "    for ids,ia in tqdm(zip(prod_id,iata),total=len(iata)):\n",
    "        #print(ia)\n",
    "        # parse the product name\n",
    "        nodes = api_session.get(urljoin(api_url, \"Products('%s')/Nodes?$format=json\" % ids)).json()\n",
    "        prod_name = nodes[\"d\"][\"results\"][0][\"Id\"]\n",
    "    #     print('prod_name {}'.format(prod_name))\n",
    "\n",
    "        # parse the granule id\n",
    "        granules = api_session.get(urljoin(api_url, \"Products('%s')/Nodes('%s')/Nodes('GRANULE')/Nodes?$format=json\" % (ids, prod_name))).json()\n",
    "        granules[\"d\"][\"results\"][0].keys()\n",
    "        gran_id = granules[\"d\"][\"results\"][0][\"Id\"]\n",
    "    #     print('granule {}'.format(gran_id))\n",
    "\n",
    "\n",
    "\n",
    "        # parse the band names\n",
    "        bands = api_session.get(urljoin(api_url, \"Products('%s')/Nodes('%s')/Nodes('GRANULE')/Nodes('%s')/Nodes('IMG_DATA')/Nodes?$format=json\" % (ids, prod_name, gran_id))).json()\n",
    "        band_id = bands[\"d\"][\"results\"][0][\"Id\"]  # element 3 is band 4, element 0 band 1\n",
    "    #     print('band {}'.format(band_id))\n",
    "\n",
    "\n",
    "        # construct the final image url\n",
    "        TCI_url = api_session.get(urljoin(api_url, \"Products('%s')/Nodes('%s')/Nodes('GRANULE')/Nodes('%s')/Nodes('IMG_DATA')/Nodes('%s')/Nodes?$format=json\" % (ids, prod_name, gran_id, band_id))).json()\n",
    "        TCI_id = TCI_url[\"d\"][\"results\"][5][\"Id\"]\n",
    "    #     print('TCI_ID {}'.format(TCI_id))\n",
    "\n",
    "\n",
    "        img_url = urljoin(api_url, \"Products('%s')/Nodes('%s')/Nodes('GRANULE')/Nodes('%s')/Nodes('IMG_DATA')/Nodes('%s')/Nodes('%s')/$value\" % (ids, prod_name, gran_id, band_id,TCI_id))\n",
    "        urls.append(img_url)\n",
    "        fNames.append(TCI_id)\n",
    "    return urls,fNames"
   ]
  },
  {
   "cell_type": "code",
   "execution_count": 16,
   "metadata": {},
   "outputs": [],
   "source": [
    "def getImages(fNames,urls,iata):\n",
    "    for names,urls,ia in tqdm(zip(fNames,urls,iata),total = len(iata)):\n",
    "\n",
    "        r = requests.get(urls,auth = (user,password))\n",
    "        with open(\"Products_R/\" + str(ia) + \"_\" + str(names),'wb') as f: \n",
    "            f.write(r.content) \n",
    "        f.close()"
   ]
  },
  {
   "cell_type": "code",
   "execution_count": 17,
   "metadata": {},
   "outputs": [
    {
     "name": "stderr",
     "output_type": "stream",
     "text": [
      "  0%|                                                                                            | 0/2 [00:00<?, ?it/s]"
     ]
    },
    {
     "name": "stdout",
     "output_type": "stream",
     "text": [
      "prod_name S2B_MSIL2A_20200910T064629_N0214_R020_T40RCN_20200910T092724.SAFE\n",
      "granule L2A_T40RCN_A018350_20200910T065646\n",
      "band R10m\n"
     ]
    },
    {
     "name": "stderr",
     "output_type": "stream",
     "text": [
      " 50%|██████████████████████████████████████████                                          | 1/2 [00:05<00:05,  5.34s/it]"
     ]
    },
    {
     "name": "stdout",
     "output_type": "stream",
     "text": [
      "TCI_ID T40RCN_20200910T064629_TCI_10m.jp2\n",
      "prod_name S2A_MSIL2A_20201104T183541_N0214_R027_T11SLT_20201104T210809.SAFE\n",
      "granule L2A_T11SLT_A028052_20201104T183645\n",
      "band R10m\n"
     ]
    },
    {
     "name": "stderr",
     "output_type": "stream",
     "text": [
      "100%|████████████████████████████████████████████████████████████████████████████████████| 2/2 [00:09<00:00,  4.76s/it]"
     ]
    },
    {
     "name": "stdout",
     "output_type": "stream",
     "text": [
      "TCI_ID T11SLT_20201104T183541_TCI_10m.jp2\n"
     ]
    },
    {
     "name": "stderr",
     "output_type": "stream",
     "text": [
      "\n"
     ]
    }
   ],
   "source": [
    "urlLinks,tileNames = getImageURLs(prodlist,iatalist)"
   ]
  },
  {
   "cell_type": "code",
   "execution_count": 19,
   "metadata": {},
   "outputs": [
    {
     "data": {
      "text/plain": [
       "\"https://scihub.copernicus.eu/apihub/odata/v1/Products('6b70097e-0b03-4d15-b0ba-780423103205')/Nodes('S2A_MSIL2A_20201104T183541_N0214_R027_T11SLT_20201104T210809.SAFE')/Nodes('GRANULE')/Nodes('L2A_T11SLT_A028052_20201104T183645')/Nodes('IMG_DATA')/Nodes('R10m')/Nodes('T11SLT_20201104T183541_TCI_10m.jp2')/$value\""
      ]
     },
     "execution_count": 19,
     "metadata": {},
     "output_type": "execute_result"
    }
   ],
   "source": [
    "urlLinks[1]"
   ]
  },
  {
   "cell_type": "code",
   "execution_count": 98,
   "metadata": {},
   "outputs": [
    {
     "name": "stderr",
     "output_type": "stream",
     "text": [
      "100%|████████████████████████████████████████████████████████████████████████████████| 100/100 [35:38<00:00, 21.38s/it]\n"
     ]
    }
   ],
   "source": [
    "getImages(tileNames,urlLinks,iatalist)"
   ]
  },
  {
   "cell_type": "code",
   "execution_count": 131,
   "metadata": {},
   "outputs": [],
   "source": [
    "path = \"Products_R/\"\n",
    "sortedFileList = []\n",
    "for ia in iatalist:\n",
    "    for files in os.listdir(path):\n",
    "        if files.endswith(\".jp2\") and files[:3] == ia:\n",
    "            sortedFileList.append(files)\n",
    "#sortedFileList"
   ]
  },
  {
   "cell_type": "raw",
   "metadata": {},
   "source": [
    "dataArr = []\n",
    "for items in sortedFileList:\n",
    "    data = rio.open(path + str(items))\n",
    "    #print(items)\n",
    "    #print(data.meta['crs'])\n",
    "    dataArr.append(data)\n",
    "    data.close()"
   ]
  },
  {
   "cell_type": "raw",
   "metadata": {},
   "source": [
    "with open('airportRankDict.json') as listOrder:\n",
    "    dataRanks = json.load(listOrder)"
   ]
  },
  {
   "cell_type": "code",
   "execution_count": 133,
   "metadata": {},
   "outputs": [],
   "source": [
    "#sortedFileList"
   ]
  },
  {
   "cell_type": "code",
   "execution_count": 134,
   "metadata": {},
   "outputs": [],
   "source": [
    "rankList = list(dataRanks.keys())"
   ]
  },
  {
   "cell_type": "code",
   "execution_count": 135,
   "metadata": {},
   "outputs": [
    {
     "data": {
      "text/plain": [
       "1400"
      ]
     },
     "execution_count": 135,
     "metadata": {},
     "output_type": "execute_result"
    }
   ],
   "source": [
    "rankList.index('TMP')"
   ]
  },
  {
   "cell_type": "code",
   "execution_count": 137,
   "metadata": {},
   "outputs": [],
   "source": [
    "#iatalist"
   ]
  },
  {
   "cell_type": "code",
   "execution_count": 138,
   "metadata": {},
   "outputs": [
    {
     "name": "stderr",
     "output_type": "stream",
     "text": [
      "100%|████████████████████████████████████████████████████████████████████████████████| 100/100 [22:53<00:00, 13.74s/it]\n"
     ]
    }
   ],
   "source": [
    "fileNames,file = [],[]\n",
    "targetPath = \"Products/\"\n",
    "for items,meta,ia in tqdm(zip(sortedFileList,dataArr,iatalist),total = len(iatalist)):\n",
    "    openFile = path + str(items)\n",
    "    saveFile = targetPath + str(rankList.index(str(ia)) + 2) + \"_\"  + str(items)[:-4] + \".tiff\"\n",
    "    #print(openFile)\n",
    "    input_raster = gdal.Open(openFile)\n",
    "    #print(saveFile)\n",
    "    fileNames.append(saveFile)\n",
    "    gdal.Warp(saveFile,openFile,srcSRS = str(meta.meta['crs']),dstSRS = 'epsg:4326',width = str(meta.meta['width']),height = str(meta.meta['height']))\n"
   ]
  },
  {
   "cell_type": "code",
   "execution_count": 139,
   "metadata": {},
   "outputs": [],
   "source": [
    "#fileNames"
   ]
  },
  {
   "cell_type": "code",
   "execution_count": 140,
   "metadata": {},
   "outputs": [
    {
     "name": "stdout",
     "output_type": "stream",
     "text": [
      "EPSG:4326\n",
      "EPSG:4326\n",
      "EPSG:4326\n",
      "EPSG:4326\n",
      "EPSG:4326\n",
      "EPSG:4326\n",
      "EPSG:4326\n",
      "EPSG:4326\n",
      "EPSG:4326\n",
      "EPSG:4326\n",
      "EPSG:4326\n",
      "EPSG:4326\n",
      "EPSG:4326\n",
      "EPSG:4326\n",
      "EPSG:4326\n",
      "EPSG:4326\n",
      "EPSG:4326\n",
      "EPSG:4326\n",
      "EPSG:4326\n",
      "EPSG:4326\n",
      "EPSG:4326\n",
      "EPSG:4326\n",
      "EPSG:4326\n",
      "EPSG:4326\n",
      "EPSG:4326\n",
      "EPSG:4326\n",
      "EPSG:4326\n",
      "EPSG:4326\n",
      "EPSG:4326\n",
      "EPSG:4326\n",
      "EPSG:4326\n",
      "EPSG:4326\n",
      "EPSG:4326\n",
      "EPSG:4326\n",
      "EPSG:4326\n",
      "EPSG:4326\n",
      "EPSG:4326\n",
      "EPSG:4326\n",
      "EPSG:4326\n",
      "EPSG:4326\n",
      "EPSG:4326\n",
      "EPSG:4326\n",
      "EPSG:4326\n",
      "EPSG:4326\n",
      "EPSG:4326\n",
      "EPSG:4326\n",
      "EPSG:4326\n",
      "EPSG:4326\n",
      "EPSG:4326\n",
      "EPSG:4326\n",
      "EPSG:4326\n",
      "EPSG:4326\n",
      "EPSG:4326\n",
      "EPSG:4326\n",
      "EPSG:4326\n",
      "EPSG:4326\n",
      "EPSG:4326\n",
      "EPSG:4326\n",
      "EPSG:4326\n",
      "EPSG:4326\n",
      "EPSG:4326\n",
      "EPSG:4326\n",
      "EPSG:4326\n",
      "EPSG:4326\n",
      "EPSG:4326\n",
      "EPSG:4326\n",
      "EPSG:4326\n",
      "EPSG:4326\n",
      "EPSG:4326\n",
      "EPSG:4326\n",
      "EPSG:4326\n",
      "EPSG:4326\n",
      "EPSG:4326\n",
      "EPSG:4326\n",
      "EPSG:4326\n",
      "EPSG:4326\n",
      "EPSG:4326\n",
      "EPSG:4326\n",
      "EPSG:4326\n",
      "EPSG:4326\n",
      "EPSG:4326\n",
      "EPSG:4326\n",
      "EPSG:4326\n",
      "EPSG:4326\n",
      "EPSG:4326\n",
      "EPSG:4326\n",
      "EPSG:4326\n",
      "EPSG:4326\n",
      "EPSG:4326\n",
      "EPSG:4326\n",
      "EPSG:4326\n",
      "EPSG:4326\n",
      "EPSG:4326\n",
      "EPSG:4326\n",
      "EPSG:4326\n",
      "EPSG:4326\n",
      "EPSG:4326\n",
      "EPSG:4326\n",
      "EPSG:4326\n",
      "EPSG:4326\n"
     ]
    }
   ],
   "source": [
    "for items in fileNames:\n",
    "    data = rio.open(items)\n",
    "    #print(items)\n",
    "    print(data.meta['crs'])\n",
    "    data.close()"
   ]
  },
  {
   "cell_type": "code",
   "execution_count": 141,
   "metadata": {},
   "outputs": [
    {
     "ename": "IndexError",
     "evalue": "list index out of range",
     "output_type": "error",
     "traceback": [
      "\u001b[1;31m---------------------------------------------------------------------------\u001b[0m",
      "\u001b[1;31mIndexError\u001b[0m                                Traceback (most recent call last)",
      "\u001b[1;32m<ipython-input-141-21a7e26ac667>\u001b[0m in \u001b[0;36m<module>\u001b[1;34m\u001b[0m\n\u001b[0;32m      1\u001b[0m \u001b[0mgeoms\u001b[0m \u001b[1;33m=\u001b[0m \u001b[1;33m[\u001b[0m\u001b[1;33m]\u001b[0m\u001b[1;33m\u001b[0m\u001b[1;33m\u001b[0m\u001b[0m\n\u001b[0;32m      2\u001b[0m \u001b[1;32mfor\u001b[0m \u001b[0mi\u001b[0m \u001b[1;32min\u001b[0m \u001b[0mrange\u001b[0m\u001b[1;33m(\u001b[0m\u001b[1;36m0\u001b[0m\u001b[1;33m,\u001b[0m\u001b[0mlen\u001b[0m\u001b[1;33m(\u001b[0m\u001b[0mdatestamp\u001b[0m\u001b[1;33m)\u001b[0m\u001b[1;33m)\u001b[0m\u001b[1;33m:\u001b[0m\u001b[1;33m\u001b[0m\u001b[1;33m\u001b[0m\u001b[0m\n\u001b[1;32m----> 3\u001b[1;33m     \u001b[0mgeoms\u001b[0m\u001b[1;33m.\u001b[0m\u001b[0mappend\u001b[0m\u001b[1;33m(\u001b[0m\u001b[0mpolygons\u001b[0m\u001b[1;33m[\u001b[0m\u001b[0mi\u001b[0m\u001b[1;33m]\u001b[0m\u001b[1;33m[\u001b[0m\u001b[1;34m'geometry'\u001b[0m\u001b[1;33m]\u001b[0m\u001b[1;33m)\u001b[0m\u001b[1;33m\u001b[0m\u001b[1;33m\u001b[0m\u001b[0m\n\u001b[0m",
      "\u001b[1;31mIndexError\u001b[0m: list index out of range"
     ]
    }
   ],
   "source": [
    "geoms = []\n",
    "for i in range(0,len(datestamp)):\n",
    "    geoms.append(polygons[i]['geometry'])"
   ]
  },
  {
   "cell_type": "code",
   "execution_count": 142,
   "metadata": {},
   "outputs": [
    {
     "data": {
      "text/plain": [
       "99"
      ]
     },
     "execution_count": 142,
     "metadata": {},
     "output_type": "execute_result"
    }
   ],
   "source": [
    "len(geoms)"
   ]
  },
  {
   "cell_type": "code",
   "execution_count": 107,
   "metadata": {
    "collapsed": true,
    "jupyter": {
     "outputs_hidden": true
    }
   },
   "outputs": [
    {
     "name": "stderr",
     "output_type": "stream",
     "text": [
      "  0%|                                                                                           | 0/99 [00:00<?, ?it/s]\n"
     ]
    },
    {
     "ename": "ValueError",
     "evalue": "Input shapes do not overlap raster.",
     "output_type": "error",
     "traceback": [
      "\u001b[1;31m---------------------------------------------------------------------------\u001b[0m",
      "\u001b[1;31mWindowError\u001b[0m                               Traceback (most recent call last)",
      "\u001b[1;32mC:\\Anaconda3\\envs\\fastai_v1\\lib\\site-packages\\rasterio\\mask.py\u001b[0m in \u001b[0;36mraster_geometry_mask\u001b[1;34m(dataset, shapes, all_touched, invert, crop, pad, pad_width)\u001b[0m\n\u001b[0;32m     83\u001b[0m         window = geometry_window(dataset, shapes, north_up=north_up, rotated=rotated,\n\u001b[1;32m---> 84\u001b[1;33m                                  pad_x=pad_x, pad_y=pad_y)\n\u001b[0m\u001b[0;32m     85\u001b[0m \u001b[1;33m\u001b[0m\u001b[0m\n",
      "\u001b[1;32mC:\\Anaconda3\\envs\\fastai_v1\\lib\\site-packages\\rasterio\\features.py\u001b[0m in \u001b[0;36mgeometry_window\u001b[1;34m(dataset, shapes, pad_x, pad_y, north_up, rotated, pixel_precision)\u001b[0m\n\u001b[0;32m    460\u001b[0m     \u001b[1;31m# This will raise a WindowError if windows do not overlap\u001b[0m\u001b[1;33m\u001b[0m\u001b[1;33m\u001b[0m\u001b[1;33m\u001b[0m\u001b[0m\n\u001b[1;32m--> 461\u001b[1;33m     \u001b[0mwindow\u001b[0m \u001b[1;33m=\u001b[0m \u001b[0mwindow\u001b[0m\u001b[1;33m.\u001b[0m\u001b[0mintersection\u001b[0m\u001b[1;33m(\u001b[0m\u001b[0mraster_window\u001b[0m\u001b[1;33m)\u001b[0m\u001b[1;33m\u001b[0m\u001b[1;33m\u001b[0m\u001b[0m\n\u001b[0m\u001b[0;32m    462\u001b[0m \u001b[1;33m\u001b[0m\u001b[0m\n",
      "\u001b[1;32mC:\\Anaconda3\\envs\\fastai_v1\\lib\\site-packages\\rasterio\\windows.py\u001b[0m in \u001b[0;36mintersection\u001b[1;34m(self, other)\u001b[0m\n\u001b[0;32m    723\u001b[0m         \"\"\"\n\u001b[1;32m--> 724\u001b[1;33m         \u001b[1;32mreturn\u001b[0m \u001b[0mintersection\u001b[0m\u001b[1;33m(\u001b[0m\u001b[1;33m[\u001b[0m\u001b[0mself\u001b[0m\u001b[1;33m,\u001b[0m \u001b[0mother\u001b[0m\u001b[1;33m]\u001b[0m\u001b[1;33m)\u001b[0m\u001b[1;33m\u001b[0m\u001b[1;33m\u001b[0m\u001b[0m\n\u001b[0m",
      "\u001b[1;32mC:\\Anaconda3\\envs\\fastai_v1\\lib\\site-packages\\rasterio\\windows.py\u001b[0m in \u001b[0;36mwrapper\u001b[1;34m(*args, **kwargs)\u001b[0m\n\u001b[0;32m    118\u001b[0m         \u001b[1;32mif\u001b[0m \u001b[0mlen\u001b[0m\u001b[1;33m(\u001b[0m\u001b[0margs\u001b[0m\u001b[1;33m)\u001b[0m \u001b[1;33m==\u001b[0m \u001b[1;36m1\u001b[0m \u001b[1;32mand\u001b[0m \u001b[0misinstance\u001b[0m\u001b[1;33m(\u001b[0m\u001b[0margs\u001b[0m\u001b[1;33m[\u001b[0m\u001b[1;36m0\u001b[0m\u001b[1;33m]\u001b[0m\u001b[1;33m,\u001b[0m \u001b[0mIterable\u001b[0m\u001b[1;33m)\u001b[0m\u001b[1;33m:\u001b[0m\u001b[1;33m\u001b[0m\u001b[1;33m\u001b[0m\u001b[0m\n\u001b[1;32m--> 119\u001b[1;33m             \u001b[1;32mreturn\u001b[0m \u001b[0mfunction\u001b[0m\u001b[1;33m(\u001b[0m\u001b[1;33m*\u001b[0m\u001b[0margs\u001b[0m\u001b[1;33m[\u001b[0m\u001b[1;36m0\u001b[0m\u001b[1;33m]\u001b[0m\u001b[1;33m)\u001b[0m\u001b[1;33m\u001b[0m\u001b[1;33m\u001b[0m\u001b[0m\n\u001b[0m\u001b[0;32m    120\u001b[0m         \u001b[1;32melse\u001b[0m\u001b[1;33m:\u001b[0m\u001b[1;33m\u001b[0m\u001b[1;33m\u001b[0m\u001b[0m\n",
      "\u001b[1;32mC:\\Anaconda3\\envs\\fastai_v1\\lib\\site-packages\\rasterio\\windows.py\u001b[0m in \u001b[0;36mintersection\u001b[1;34m(*windows)\u001b[0m\n\u001b[0;32m    216\u001b[0m     \u001b[1;32mif\u001b[0m \u001b[1;32mnot\u001b[0m \u001b[0mintersect\u001b[0m\u001b[1;33m(\u001b[0m\u001b[0mwindows\u001b[0m\u001b[1;33m)\u001b[0m\u001b[1;33m:\u001b[0m\u001b[1;33m\u001b[0m\u001b[1;33m\u001b[0m\u001b[0m\n\u001b[1;32m--> 217\u001b[1;33m         \u001b[1;32mraise\u001b[0m \u001b[0mWindowError\u001b[0m\u001b[1;33m(\u001b[0m\u001b[1;34m\"windows do not intersect\"\u001b[0m\u001b[1;33m)\u001b[0m\u001b[1;33m\u001b[0m\u001b[1;33m\u001b[0m\u001b[0m\n\u001b[0m\u001b[0;32m    218\u001b[0m \u001b[1;33m\u001b[0m\u001b[0m\n",
      "\u001b[1;31mWindowError\u001b[0m: windows do not intersect",
      "\nDuring handling of the above exception, another exception occurred:\n",
      "\u001b[1;31mValueError\u001b[0m                                Traceback (most recent call last)",
      "\u001b[1;32m<ipython-input-107-9bb4ebcd069f>\u001b[0m in \u001b[0;36m<module>\u001b[1;34m\u001b[0m\n\u001b[0;32m      2\u001b[0m \u001b[1;32mfor\u001b[0m \u001b[0mnames\u001b[0m\u001b[1;33m,\u001b[0m\u001b[0mg\u001b[0m\u001b[1;33m,\u001b[0m\u001b[0mdate\u001b[0m\u001b[1;33m,\u001b[0m\u001b[0mia\u001b[0m \u001b[1;32min\u001b[0m \u001b[0mtqdm\u001b[0m\u001b[1;33m(\u001b[0m\u001b[0mzip\u001b[0m\u001b[1;33m(\u001b[0m\u001b[0mfileNames\u001b[0m\u001b[1;33m,\u001b[0m\u001b[0mgeoms\u001b[0m\u001b[1;33m,\u001b[0m\u001b[0mdatestamp\u001b[0m\u001b[1;33m,\u001b[0m\u001b[0miatalist\u001b[0m\u001b[1;33m)\u001b[0m\u001b[1;33m,\u001b[0m\u001b[0mtotal\u001b[0m \u001b[1;33m=\u001b[0m \u001b[0mlen\u001b[0m\u001b[1;33m(\u001b[0m\u001b[0mfileNames\u001b[0m\u001b[1;33m)\u001b[0m\u001b[1;33m)\u001b[0m\u001b[1;33m:\u001b[0m\u001b[1;33m\u001b[0m\u001b[1;33m\u001b[0m\u001b[0m\n\u001b[0;32m      3\u001b[0m     \u001b[1;32mwith\u001b[0m \u001b[0mrasterio\u001b[0m\u001b[1;33m.\u001b[0m\u001b[0mopen\u001b[0m\u001b[1;33m(\u001b[0m\u001b[0mnames\u001b[0m\u001b[1;33m)\u001b[0m \u001b[1;32mas\u001b[0m \u001b[0msrc\u001b[0m\u001b[1;33m:\u001b[0m\u001b[1;33m\u001b[0m\u001b[1;33m\u001b[0m\u001b[0m\n\u001b[1;32m----> 4\u001b[1;33m             \u001b[0mout_image\u001b[0m\u001b[1;33m,\u001b[0m \u001b[0mout_transform\u001b[0m \u001b[1;33m=\u001b[0m \u001b[0mmask\u001b[0m\u001b[1;33m(\u001b[0m\u001b[0msrc\u001b[0m\u001b[1;33m,\u001b[0m \u001b[0mg\u001b[0m\u001b[1;33m,\u001b[0m \u001b[0mcrop\u001b[0m\u001b[1;33m=\u001b[0m\u001b[1;32mTrue\u001b[0m\u001b[1;33m)\u001b[0m\u001b[1;33m\u001b[0m\u001b[1;33m\u001b[0m\u001b[0m\n\u001b[0m\u001b[0;32m      5\u001b[0m             \u001b[0mout_meta\u001b[0m \u001b[1;33m=\u001b[0m \u001b[0msrc\u001b[0m\u001b[1;33m.\u001b[0m\u001b[0mmeta\u001b[0m\u001b[1;33m.\u001b[0m\u001b[0mcopy\u001b[0m\u001b[1;33m(\u001b[0m\u001b[1;33m)\u001b[0m\u001b[1;33m\u001b[0m\u001b[1;33m\u001b[0m\u001b[0m\n\u001b[0;32m      6\u001b[0m \u001b[1;33m\u001b[0m\u001b[0m\n",
      "\u001b[1;32mC:\\Anaconda3\\envs\\fastai_v1\\lib\\site-packages\\rasterio\\mask.py\u001b[0m in \u001b[0;36mmask\u001b[1;34m(dataset, shapes, all_touched, invert, nodata, filled, crop, pad, pad_width, indexes)\u001b[0m\n\u001b[0;32m    182\u001b[0m     shape_mask, transform, window = raster_geometry_mask(\n\u001b[0;32m    183\u001b[0m         \u001b[0mdataset\u001b[0m\u001b[1;33m,\u001b[0m \u001b[0mshapes\u001b[0m\u001b[1;33m,\u001b[0m \u001b[0mall_touched\u001b[0m\u001b[1;33m=\u001b[0m\u001b[0mall_touched\u001b[0m\u001b[1;33m,\u001b[0m \u001b[0minvert\u001b[0m\u001b[1;33m=\u001b[0m\u001b[0minvert\u001b[0m\u001b[1;33m,\u001b[0m \u001b[0mcrop\u001b[0m\u001b[1;33m=\u001b[0m\u001b[0mcrop\u001b[0m\u001b[1;33m,\u001b[0m\u001b[1;33m\u001b[0m\u001b[1;33m\u001b[0m\u001b[0m\n\u001b[1;32m--> 184\u001b[1;33m         pad=pad, pad_width=pad_width)\n\u001b[0m\u001b[0;32m    185\u001b[0m \u001b[1;33m\u001b[0m\u001b[0m\n\u001b[0;32m    186\u001b[0m     \u001b[1;32mif\u001b[0m \u001b[0mindexes\u001b[0m \u001b[1;32mis\u001b[0m \u001b[1;32mNone\u001b[0m\u001b[1;33m:\u001b[0m\u001b[1;33m\u001b[0m\u001b[1;33m\u001b[0m\u001b[0m\n",
      "\u001b[1;32mC:\\Anaconda3\\envs\\fastai_v1\\lib\\site-packages\\rasterio\\mask.py\u001b[0m in \u001b[0;36mraster_geometry_mask\u001b[1;34m(dataset, shapes, all_touched, invert, crop, pad, pad_width)\u001b[0m\n\u001b[0;32m     88\u001b[0m         \u001b[1;31m# depending on value of crop\u001b[0m\u001b[1;33m\u001b[0m\u001b[1;33m\u001b[0m\u001b[1;33m\u001b[0m\u001b[0m\n\u001b[0;32m     89\u001b[0m         \u001b[1;32mif\u001b[0m \u001b[0mcrop\u001b[0m\u001b[1;33m:\u001b[0m\u001b[1;33m\u001b[0m\u001b[1;33m\u001b[0m\u001b[0m\n\u001b[1;32m---> 90\u001b[1;33m             \u001b[1;32mraise\u001b[0m \u001b[0mValueError\u001b[0m\u001b[1;33m(\u001b[0m\u001b[1;34m'Input shapes do not overlap raster.'\u001b[0m\u001b[1;33m)\u001b[0m\u001b[1;33m\u001b[0m\u001b[1;33m\u001b[0m\u001b[0m\n\u001b[0m\u001b[0;32m     91\u001b[0m         \u001b[1;32melse\u001b[0m\u001b[1;33m:\u001b[0m\u001b[1;33m\u001b[0m\u001b[1;33m\u001b[0m\u001b[0m\n\u001b[0;32m     92\u001b[0m             warnings.warn('shapes are outside bounds of raster. '\n",
      "\u001b[1;31mValueError\u001b[0m: Input shapes do not overlap raster."
     ]
    }
   ],
   "source": [
    "from rasterio.mask import mask\n",
    "for names,g,date,ia in tqdm(zip(fileNames,geoms,datestamp,iatalist),total = len(fileNames)):\n",
    "    with rasterio.open(names) as src:\n",
    "            out_image, out_transform = mask(src, g, crop=True)\n",
    "            out_meta = src.meta.copy()\n",
    "\n",
    "    out_meta.update({\"driver\": \"GTiff\",\n",
    "                         \"height\": out_image.shape[1],\n",
    "                         \"width\": out_image.shape[2],\n",
    "                         \"transform\": out_transform})\n",
    "    try:\n",
    "        with rasterio.open(\"Source/S\" + \"_\" +  ia + \"_\" + date  +\".tiff\", \"w\", **out_meta) as dest:\n",
    "            dest.write(out_image)\n",
    "        #os.remove(titlelist[k][i])\n",
    "        src.close()\n",
    "        dest.close()\n",
    "    except:\n",
    "        continue\n",
    "        "
   ]
  },
  {
   "cell_type": "code",
   "execution_count": null,
   "metadata": {},
   "outputs": [],
   "source": []
  }
 ],
 "metadata": {
  "colab": {
   "collapsed_sections": [],
   "include_colab_link": true,
   "name": "RS-Python.ipynb",
   "provenance": [],
   "version": "0.3.2"
  },
  "kernelspec": {
   "display_name": "fastai v1",
   "language": "python",
   "name": "fastai_v1"
  },
  "language_info": {
   "codemirror_mode": {
    "name": "ipython",
    "version": 3
   },
   "file_extension": ".py",
   "mimetype": "text/x-python",
   "name": "python",
   "nbconvert_exporter": "python",
   "pygments_lexer": "ipython3",
   "version": "3.6.10"
  }
 },
 "nbformat": 4,
 "nbformat_minor": 4
}
